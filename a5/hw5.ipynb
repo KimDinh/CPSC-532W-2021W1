{
 "cells": [
  {
   "cell_type": "markdown",
   "metadata": {},
   "source": [
    "# Implementation\n",
    "\n",
    "## Code repo\n",
    "https://github.com/KimDinh/CPSC-532W-2021W1/tree/master/a5\n",
    "\n",
    "## Primitives\n",
    "```python\n",
    "def vector(addr, *args):\n",
    "    if len(args) == 0:\n",
    "        return torch.Tensor([])\n",
    "    try:\n",
    "        return torch.stack(list(args))\n",
    "    except:\n",
    "        return list(args)\n",
    "\n",
    "def hashmap(addr, *args):\n",
    "    e = list(args)\n",
    "    keys = [e_.item() if isinstance(e_, torch.Tensor) else e_ for e_ in e[0::2]]\n",
    "    return dict(zip(keys, e[1::2]))\n",
    "\n",
    "def get(addr, e1, e2):\n",
    "    if isinstance(e1, dict):\n",
    "        return e1[e2.item() if isinstance(e2, torch.Tensor) else e2]\n",
    "    else:\n",
    "        return e1[int(e2)]\n",
    "\n",
    "def put(addr, e1, e2, e3):\n",
    "    ret = copy.deepcopy(e1)\n",
    "    if isinstance(ret, dict):\n",
    "        ret[e2.item() if isinstance(e2, torch.Tensor) else e2] = e3\n",
    "    else:\n",
    "        ret[int(e2)] = e3\n",
    "    return ret\n",
    "\n",
    "def append(addr, e1, e2):\n",
    "    ret = copy.deepcopy(e1)\n",
    "    if isinstance(ret, torch.Tensor):\n",
    "        ret = torch.cat([ret, e2.unsqueeze(dim=0)])\n",
    "    else:\n",
    "        ret.append(e2)\n",
    "    return ret\n",
    "\n",
    "def cons(addr, e1, e2):\n",
    "    ret = copy.deepcopy(e1)\n",
    "    if isinstance(ret, torch.Tensor):\n",
    "        ret = torch.cat([e2.unsqueeze(dim=0), ret])\n",
    "    else:\n",
    "        ret.insert(0, e2)\n",
    "    return ret\n",
    "\n",
    "def empty(addr, e):\n",
    "    if isinstance(e, torch.Tensor):\n",
    "        return e.size()[0] == 0\n",
    "    else:\n",
    "        return len(e) == 0\n",
    "\n",
    "env = {\n",
    "    'normal': Normal,\n",
    "    'uniform-continuous': lambda addr, e1, e2: torch.distributions.Uniform(e1, e2),\n",
    "    'beta': lambda addr, e1, e2: torch.distributions.Beta(e1, e2),\n",
    "    'exponential': lambda addr, e: torch.distributions.Exponential(e),\n",
    "    'discrete': lambda addr, e: torch.distributions.Categorical(e),\n",
    "    'gamma': lambda addr, e1, e2: torch.distributions.Gamma(e1, e2),\n",
    "    'dirichlet': lambda addr, e: torch.distributions.Dirichlet(e),\n",
    "    'flip': lambda addr, e: torch.distributions.Bernoulli(e),\n",
    "    'push-address' : push_addr,\n",
    "    '+': lambda addr, e1, e2: e1 + e2,\n",
    "    '-': lambda addr, e1, e2: e1 - e2,\n",
    "    '*': lambda addr, e1, e2: e1 * e2,\n",
    "    '/': lambda addr, e1, e2: e1 / e2,\n",
    "    'sqrt': lambda addr, e: torch.sqrt(e),\n",
    "    'exp': lambda addr, e: torch.exp(e),\n",
    "    'log': lambda addr, e: torch.log(e),\n",
    "    'abs': lambda addr, e: torch.abs(e),\n",
    "    '>': lambda addr, e1, e2: e1 > e2,\n",
    "    '<': lambda addr, e1, e2: e1 < e2,\n",
    "    '>=': lambda addr, e1, e2: e1 >= e2,\n",
    "    '<=': lambda addr, e1, e2: e1 <= e2,\n",
    "    '=': lambda addr, e1, e2: e1 == e2,\n",
    "    'and': lambda addr, e1, e2: e1 and e2,\n",
    "    'or': lambda addr, e1, e2: e1 or e2,\n",
    "    'vector': vector,\n",
    "    'hash-map': hashmap,\n",
    "    'get': get,\n",
    "    'first': lambda addr, e: get(addr, e, 0),\n",
    "    'second': lambda addr, e: get(addr, e, 1),\n",
    "    'last': lambda addr, e: get(addr, e, -1),\n",
    "    'rest': lambda addr, e: e[1:],\n",
    "    'peek': lambda addr, e: get(addr, e, -1),\n",
    "    'append': append,\n",
    "    'put': put,\n",
    "    'conj': append,\n",
    "    'cons': cons,\n",
    "    'empty?': empty\n",
    "}\n",
    "```\n",
    "\n",
    "## Evaluator\n",
    "```python\n",
    "class Env(dict):\n",
    "    \"\"\"\n",
    "    Copied from https://norvig.com/lispy.html and modified\n",
    "    \"\"\"\n",
    "    def __init__(self, parms=(), args=(), outer=None):\n",
    "        self.update(zip(parms, args))\n",
    "        self.outer = outer\n",
    "\n",
    "    def get(self, var):\n",
    "        return self[var] if (var in self) else self.outer.get(var)\n",
    "\n",
    "\n",
    "class Procedure(object):\n",
    "    \"\"\"\n",
    "    Copied from https://norvig.com/lispy.html\n",
    "    \"\"\"\n",
    "    def __init__(self, parms, body, env):\n",
    "        self.parms, self.body, self.env = parms, body, env\n",
    "    \n",
    "    def __call__(self, *args, sigma): \n",
    "        return eval(self.body, sigma, Env(self.parms, args, self.env))\n",
    "\n",
    "\n",
    "def evaluate(exp):\n",
    "    func, sigma = eval(exp)\n",
    "    ret, sigma = func(sigma=sigma)\n",
    "    return ret\n",
    "\n",
    "\n",
    "def eval(e, sigma={}, env=None):\n",
    "\n",
    "    if env is None:\n",
    "        env = standard_env()\n",
    "\n",
    "    if (not isinstance(e, list)):\n",
    "        if isinstance(e, list):\n",
    "            e = e[0]\n",
    "        if isinstance(e, numbers.Number):\n",
    "            return torch.tensor(float(e)), sigma\n",
    "        elif isinstance(e, str):\n",
    "            val = env.get(e)\n",
    "            if val is not None:\n",
    "                return val, sigma\n",
    "            else:\n",
    "                return e, sigma\n",
    "        else:\n",
    "            raise(\"Expression type unknown.\", e) \n",
    "    else:\n",
    "        op = e[0]\n",
    "        args = e[1:]\n",
    "        if op == 'if':\n",
    "            pred, sigma = eval(args[0], sigma, env)\n",
    "            if pred:\n",
    "                return eval(args[1], sigma, env)\n",
    "            else:\n",
    "                return eval(args[2], sigma, env)\n",
    "        elif op == 'fn':\n",
    "            params, body = args\n",
    "            return Procedure(params, body, env), sigma\n",
    "        elif op == 'sample':\n",
    "            # evaluate push-address\n",
    "            _, sigma = eval(args[0], sigma, env)\n",
    "            # evaluate distribution and sample\n",
    "            d, sigma = eval(args[1], sigma, env)\n",
    "            return d.sample(), sigma\n",
    "        elif op == 'observe':\n",
    "            # evaluate push-address\n",
    "            _, sigma = eval(args[0], sigma, env)\n",
    "            # evaluate distribution and observed value\n",
    "            d, sigma = eval(args[1], sigma, env)\n",
    "            c, sigma = eval(args[2], sigma, env)\n",
    "            return c, sigma\n",
    "        else:\n",
    "            func, sigma = eval(op, sigma, env)\n",
    "            vals = []\n",
    "            for arg in args:\n",
    "                c, sigma = eval(arg, sigma, env)\n",
    "                vals.append(c)\n",
    "            if isinstance(func, Procedure):\n",
    "                return func(*vals, sigma=sigma)\n",
    "            else:\n",
    "                return func(*vals), sigma\n",
    "```\n",
    "\n",
    "## Test Outputs\n",
    "```\n",
    "FOPPL Tests passed\n",
    "FOPPL Tests passed\n",
    "FOPPL Tests passed\n",
    "FOPPL Tests passed\n",
    "FOPPL Tests passed\n",
    "FOPPL Tests passed\n",
    "FOPPL Tests passed\n",
    "FOPPL Tests passed\n",
    "FOPPL Tests passed\n",
    "FOPPL Tests passed\n",
    "FOPPL Tests passed\n",
    "FOPPL Tests passed\n",
    "FOPPL Tests passed\n",
    "Test passed\n",
    "Test passed\n",
    "Test passed\n",
    "Test passed\n",
    "Test passed\n",
    "Test passed\n",
    "Test passed\n",
    "Test passed\n",
    "Test passed\n",
    "Test passed\n",
    "Test passed\n",
    "Test passed\n",
    "All deterministic tests passed\n",
    "('normal', 5, 1.4142136)\n",
    "p value 0.8644174822780564\n",
    "('beta', 2.0, 5.0)\n",
    "p value 0.3769172291770422\n",
    "('exponential', 0.0, 5.0)\n",
    "p value 0.270546249417139\n",
    "('normal', 5.3, 3.2)\n",
    "p value 0.8754333482446656\n",
    "('normalmix', 0.1, -1, 0.3, 0.9, 1, 0.3)\n",
    "p value 0.5873084911482642\n",
    "('normal', 0, 1.44)\n",
    "p value 0.17265323835383373\n",
    "All probabilistic tests passed\n",
    "```"
   ]
  },
  {
   "cell_type": "markdown",
   "metadata": {},
   "source": [
    "#"
   ]
  },
  {
   "cell_type": "code",
   "execution_count": 1,
   "metadata": {},
   "outputs": [],
   "source": [
    "import numpy as np\n",
    "from matplotlib import pyplot as plt\n",
    "import time\n",
    "import sys\n",
    "from daphne import daphne\n",
    "from evaluator import evaluate\n",
    "\n",
    "def load_exp(num):\n",
    "    return daphne(['desugar-hoppl', '-i', '../a5/programs/{}.daphne'.format(num)])"
   ]
  },
  {
   "cell_type": "markdown",
   "metadata": {},
   "source": [
    "# Program 1"
   ]
  },
  {
   "cell_type": "code",
   "execution_count": 2,
   "metadata": {},
   "outputs": [
    {
     "name": "stdout",
     "output_type": "stream",
     "text": [
      "Number of samples: 200000\n",
      "Sampling time: 966 seconds\n",
      "Prior mean: 99.309\n",
      "Prior variance: 9979.104\n"
     ]
    }
   ],
   "source": [
    "sys.setrecursionlimit(8000)\n",
    "\n",
    "exp = load_exp(1)\n",
    "num_samples = int(2e5)\n",
    "samples = []\n",
    "\n",
    "start = time.time()\n",
    "for i in range(num_samples):\n",
    "    samples.append(evaluate(exp).item())\n",
    "end = time.time()\n",
    "\n",
    "print(\"Number of samples: {}\".format(num_samples))\n",
    "print(\"Sampling time: {} seconds\".format(int(end-start)))\n",
    "print(\"Prior mean: {:.3f}\".format(np.mean(samples)))\n",
    "print(\"Prior variance: {:.3f}\".format(np.var(samples)))"
   ]
  },
  {
   "cell_type": "code",
   "execution_count": 3,
   "metadata": {},
   "outputs": [
    {
     "data": {
      "image/png": "[encoded data removed]",
      "text/plain": [
       "<Figure size 720x360 with 1 Axes>"
      ]
     },
     "metadata": {
      "needs_background": "light"
     },
     "output_type": "display_data"
    }
   ],
   "source": [
    "plt.figure(figsize=(10,5))\n",
    "plt.hist(samples, bins=50)\n",
    "plt.savefig(\"figs/p1_hist.png\")"
   ]
  },
  {
   "cell_type": "markdown",
   "metadata": {},
   "source": [
    "# Program 2"
   ]
  },
  {
   "cell_type": "code",
   "execution_count": 12,
   "metadata": {},
   "outputs": [
    {
     "name": "stdout",
     "output_type": "stream",
     "text": [
      "Number of samples: 1000000\n",
      "Sampling time: 295 seconds\n",
      "Prior mean of mu: 0.999\n",
      "Prior variance of mu: 5.003\n"
     ]
    }
   ],
   "source": [
    "exp = load_exp(2)\n",
    "num_samples = int(1e6)\n",
    "samples = []\n",
    "\n",
    "start = time.time()\n",
    "for i in range(num_samples):\n",
    "    samples.append(evaluate(exp).item())\n",
    "end = time.time()\n",
    "\n",
    "print(\"Number of samples: {}\".format(num_samples))\n",
    "print(\"Sampling time: {} seconds\".format(int(end-start)))\n",
    "print(\"Prior mean of mu: {:.3f}\".format(np.mean(samples)))\n",
    "print(\"Prior variance of mu: {:.3f}\".format(np.var(samples)))"
   ]
  },
  {
   "cell_type": "code",
   "execution_count": 13,
   "metadata": {},
   "outputs": [
    {
     "data": {
      "image/png": "[encoded data removed]",
      "text/plain": [
       "<Figure size 720x360 with 1 Axes>"
      ]
     },
     "metadata": {
      "needs_background": "light"
     },
     "output_type": "display_data"
    }
   ],
   "source": [
    "plt.figure(figsize=(10,5))\n",
    "plt.hist(samples, bins=50)\n",
    "plt.savefig(\"figs/p2_hist.png\")"
   ]
  },
  {
   "cell_type": "markdown",
   "metadata": {},
   "source": [
    "# Program 3"
   ]
  },
  {
   "cell_type": "code",
   "execution_count": 4,
   "metadata": {},
   "outputs": [
    {
     "name": "stdout",
     "output_type": "stream",
     "text": [
      "Number of samples: 300000\n",
      "Sampling time: 625 seconds\n",
      "Prior mean of each time step:\n",
      " [0.9993 1.4170 1.4704 1.4763 1.4785 1.4793 1.4804 1.4826 1.4781 1.4812\n",
      " 1.4812 1.4765 1.4793 1.4811 1.4802 1.4807 1.4795]\n",
      "Prior variance of each time step:\n",
      " [0.6668 0.5425 0.5625 0.5570 0.5560 0.5561 0.5541 0.5536 0.5577 0.5540\n",
      " 0.5538 0.5604 0.5549 0.5556 0.5556 0.5558 0.5548]\n"
     ]
    }
   ],
   "source": [
    "exp = load_exp(3)\n",
    "num_samples = int(3e5)\n",
    "samples = []\n",
    "\n",
    "start = time.time()\n",
    "for i in range(num_samples):\n",
    "    samples.append(evaluate(exp).numpy().tolist())\n",
    "end = time.time()\n",
    "samples = np.array(samples)\n",
    "\n",
    "print(\"Number of samples: {}\".format(num_samples))\n",
    "print(\"Sampling time: {} seconds\".format(int(end-start)))\n",
    "np.set_printoptions(threshold=np.inf, formatter={'float_kind': \"{:.4f}\".format})\n",
    "print(\"Prior mean of each time step:\\n\", np.mean(samples, axis=0, keepdims=False))\n",
    "print(\"Prior variance of each time step:\\n\", np.var(samples, axis=0, keepdims=False))"
   ]
  },
  {
   "cell_type": "code",
   "execution_count": 5,
   "metadata": {},
   "outputs": [
    {
     "data": {
      "image/png": "[encoded data removed]",
      "text/plain": [
       "<Figure size 1080x576 with 17 Axes>"
      ]
     },
     "metadata": {
      "needs_background": "light"
     },
     "output_type": "display_data"
    }
   ],
   "source": [
    "plt.figure(figsize=(15, 8))\n",
    "for i in range(17):\n",
    "    plt.subplot(3, 6, i+1)\n",
    "    plt.hist(samples[:, i])\n",
    "    plt.title(\"z_{}\".format(i))\n",
    "plt.tight_layout()\n",
    "plt.savefig(\"figs/p3_hist.png\")"
   ]
  }
 ],
 "metadata": {
  "interpreter": {
   "hash": "3292922a618ca9f3a4e1cf088f6eaea80205f29535491ef474467c2b8876dcf3"
  },
  "kernelspec": {
   "display_name": "Python 3.8.12 64-bit ('python3.8': conda)",
   "language": "python",
   "name": "python3"
  },
  "language_info": {
   "codemirror_mode": {
    "name": "ipython",
    "version": 3
   },
   "file_extension": ".py",
   "mimetype": "text/x-python",
   "name": "python",
   "nbconvert_exporter": "python",
   "pygments_lexer": "ipython3",
   "version": "3.8.12"
  },
  "orig_nbformat": 4
 },
 "nbformat": 4,
 "nbformat_minor": 2
}
